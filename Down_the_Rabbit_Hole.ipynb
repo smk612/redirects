{
  "nbformat": 4,
  "nbformat_minor": 0,
  "metadata": {
    "colab": {
      "name": "Down the Rabbit Hole.ipynb",
      "provenance": [],
      "collapsed_sections": [],
      "authorship_tag": "ABX9TyM8JPBFvfN602JyC5170Jcu",
      "include_colab_link": true
    },
    "kernelspec": {
      "name": "python3",
      "display_name": "Python 3"
    }
  },
  "cells": [
    {
      "cell_type": "markdown",
      "metadata": {
        "id": "view-in-github",
        "colab_type": "text"
      },
      "source": [
        "<a href=\"https://colab.research.google.com/github/smk612/redirects/blob/master/Down_the_Rabbit_Hole.ipynb\" target=\"_parent\"><img src=\"https://colab.research.google.com/assets/colab-badge.svg\" alt=\"Open In Colab\"/></a>"
      ]
    },
    {
      "cell_type": "markdown",
      "metadata": {
        "id": "wH2gpktEsTNm",
        "colab_type": "text"
      },
      "source": [
        "**Down the Rabbit Hole: Pandas Iterrables**\n",
        "\n",
        "* [LinkedIn Article](https://www.linkedin.com/pulse/down-rabbit-hole-pandas-iterrables-soumik-de)\n",
        "\n",
        "* [Dario's Post](https://towardsdatascience.com/heres-how-to-make-pandas-iteration-150x-faster-20ccb5477128)\n",
        "\n",
        "* [Deep Dive](https://medium.com/swlh/why-pandas-itertuples-is-faster-than-iterrows-and-how-to-make-it-even-faster-bc50c0edd30d)"
      ]
    },
    {
      "cell_type": "code",
      "metadata": {
        "id": "MGVq3eq5sQRb",
        "colab_type": "code",
        "colab": {}
      },
      "source": [
        "import pandas as pd"
      ],
      "execution_count": 0,
      "outputs": []
    },
    {
      "cell_type": "code",
      "metadata": {
        "id": "mzIVlisLs1Ks",
        "colab_type": "code",
        "colab": {}
      },
      "source": [
        "# Increase 0s to make difference more evident\n",
        "df = pd.DataFrame(data={'Values':range(1,1000000)})"
      ],
      "execution_count": 0,
      "outputs": []
    },
    {
      "cell_type": "code",
      "metadata": {
        "id": "PaoEQkFktP9l",
        "colab_type": "code",
        "colab": {
          "base_uri": "https://localhost:8080/",
          "height": 67
        },
        "outputId": "0976055a-edb2-48f7-e63d-e4c14c7f504f"
      },
      "source": [
        "# iterrows()\n",
        "%%time\n",
        "sum=0\n",
        "\n",
        "for _,row in df.iterrows():\n",
        "    sum+=row['Values']\n",
        "\n",
        "print(sum)"
      ],
      "execution_count": 35,
      "outputs": [
        {
          "output_type": "stream",
          "text": [
            "499999500000\n",
            "CPU times: user 1min 21s, sys: 0 ns, total: 1min 21s\n",
            "Wall time: 1min 21s\n"
          ],
          "name": "stdout"
        }
      ]
    },
    {
      "cell_type": "code",
      "metadata": {
        "id": "I8Zio8Ditelf",
        "colab_type": "code",
        "colab": {
          "base_uri": "https://localhost:8080/",
          "height": 67
        },
        "outputId": "033856dc-4073-4b5e-f7db-9aa940bc7677"
      },
      "source": [
        "# itertuples()\n",
        "%%time\n",
        "sum=0\n",
        "\n",
        "for row in df.itertuples():\n",
        "    sum+=row.Values\n",
        "\n",
        "print(sum)"
      ],
      "execution_count": 36,
      "outputs": [
        {
          "output_type": "stream",
          "text": [
            "499999500000\n",
            "CPU times: user 679 ms, sys: 0 ns, total: 679 ms\n",
            "Wall time: 679 ms\n"
          ],
          "name": "stdout"
        }
      ]
    },
    {
      "cell_type": "code",
      "metadata": {
        "id": "DpuOsNKZtvmq",
        "colab_type": "code",
        "colab": {
          "base_uri": "https://localhost:8080/",
          "height": 67
        },
        "outputId": "3cb79d81-3ebc-436a-c1f2-f71ff1fd6276"
      },
      "source": [
        "# itertuples() with parameter\n",
        "%%time\n",
        "sum=0\n",
        "\n",
        "for (_,row) in df.itertuples(name=None):\n",
        "    sum+=row\n",
        "\n",
        "print(sum)"
      ],
      "execution_count": 37,
      "outputs": [
        {
          "output_type": "stream",
          "text": [
            "499999500000\n",
            "CPU times: user 323 ms, sys: 0 ns, total: 323 ms\n",
            "Wall time: 323 ms\n"
          ],
          "name": "stdout"
        }
      ]
    },
    {
      "cell_type": "code",
      "metadata": {
        "id": "LSK6Bb0cuTHY",
        "colab_type": "code",
        "colab": {
          "base_uri": "https://localhost:8080/",
          "height": 67
        },
        "outputId": "03a93ee8-5858-42db-8df9-18730d25c30d"
      },
      "source": [
        "# custom code\n",
        "%%time\n",
        "sum=0\n",
        "\n",
        "my_rows=zip(df['Values'])\n",
        "\n",
        "for i, (row,) in enumerate(my_rows):\n",
        "    sum+=row\n",
        "\n",
        "print(sum)"
      ],
      "execution_count": 38,
      "outputs": [
        {
          "output_type": "stream",
          "text": [
            "499999500000\n",
            "CPU times: user 272 ms, sys: 0 ns, total: 272 ms\n",
            "Wall time: 272 ms\n"
          ],
          "name": "stdout"
        }
      ]
    }
  ]
}