{
  "nbformat": 4,
  "nbformat_minor": 0,
  "metadata": {
    "colab": {
      "name": "Down the Rabbit Hole.ipynb",
      "provenance": [],
      "collapsed_sections": [],
      "authorship_tag": "ABX9TyO9/rfMvyUqvmEWXkZ9mimS",
      "include_colab_link": true
    },
    "kernelspec": {
      "name": "python3",
      "display_name": "Python 3"
    }
  },
  "cells": [
    {
      "cell_type": "markdown",
      "metadata": {
        "id": "view-in-github",
        "colab_type": "text"
      },
      "source": [
        "<a href=\"https://colab.research.google.com/github/smk612/redirects/blob/master/Down_the_Rabbit_Hole.ipynb\" target=\"_parent\"><img src=\"https://colab.research.google.com/assets/colab-badge.svg\" alt=\"Open In Colab\"/></a>"
      ]
    },
    {
      "cell_type": "markdown",
      "metadata": {
        "id": "wH2gpktEsTNm",
        "colab_type": "text"
      },
      "source": [
        "**Down the Rabbit Hole: Pandas Iterrables**\n",
        "<br>\n",
        "* [Dario's Post](https://towardsdatascience.com/heres-how-to-make-pandas-iteration-150x-faster-20ccb5477128)\n",
        "<br>\n",
        "* [Deep Dive](https://medium.com/swlh/why-pandas-itertuples-is-faster-than-iterrows-and-how-to-make-it-even-faster-bc50c0edd30d)"
      ]
    },
    {
      "cell_type": "code",
      "metadata": {
        "id": "MGVq3eq5sQRb",
        "colab_type": "code",
        "colab": {}
      },
      "source": [
        "import pandas as pd"
      ],
      "execution_count": 0,
      "outputs": []
    },
    {
      "cell_type": "code",
      "metadata": {
        "id": "mzIVlisLs1Ks",
        "colab_type": "code",
        "colab": {}
      },
      "source": [
        "df = pd.DataFrame(data={'Values':range(1,1000000)})"
      ],
      "execution_count": 0,
      "outputs": []
    },
    {
      "cell_type": "code",
      "metadata": {
        "id": "PaoEQkFktP9l",
        "colab_type": "code",
        "colab": {
          "base_uri": "https://localhost:8080/",
          "height": 67
        },
        "outputId": "89102366-1dc9-4b9e-b829-b126daffd755"
      },
      "source": [
        "%%time\n",
        "sum=0\n",
        "\n",
        "for _,row in df.iterrows():\n",
        "    sum+=row['Values']\n",
        "\n",
        "print(sum)"
      ],
      "execution_count": 25,
      "outputs": [
        {
          "output_type": "stream",
          "text": [
            "499999500000\n",
            "CPU times: user 1min 20s, sys: 0 ns, total: 1min 20s\n",
            "Wall time: 1min 20s\n"
          ],
          "name": "stdout"
        }
      ]
    },
    {
      "cell_type": "code",
      "metadata": {
        "id": "I8Zio8Ditelf",
        "colab_type": "code",
        "colab": {
          "base_uri": "https://localhost:8080/",
          "height": 67
        },
        "outputId": "6a9b87da-fa31-4ba6-9aec-5f5962036fd4"
      },
      "source": [
        "%%time\n",
        "sum=0\n",
        "\n",
        "for row in df.itertuples():\n",
        "    sum+=row.Values\n",
        "\n",
        "print(sum)"
      ],
      "execution_count": 26,
      "outputs": [
        {
          "output_type": "stream",
          "text": [
            "499999500000\n",
            "CPU times: user 660 ms, sys: 0 ns, total: 660 ms\n",
            "Wall time: 662 ms\n"
          ],
          "name": "stdout"
        }
      ]
    },
    {
      "cell_type": "code",
      "metadata": {
        "id": "DpuOsNKZtvmq",
        "colab_type": "code",
        "colab": {
          "base_uri": "https://localhost:8080/",
          "height": 67
        },
        "outputId": "bdf39510-6367-4758-dcc3-37df0d901e5c"
      },
      "source": [
        "%%time\n",
        "sum=0\n",
        "\n",
        "for (_,row) in df.itertuples(name=None):\n",
        "    sum+=row\n",
        "\n",
        "print(sum)"
      ],
      "execution_count": 27,
      "outputs": [
        {
          "output_type": "stream",
          "text": [
            "499999500000\n",
            "CPU times: user 313 ms, sys: 0 ns, total: 313 ms\n",
            "Wall time: 317 ms\n"
          ],
          "name": "stdout"
        }
      ]
    },
    {
      "cell_type": "code",
      "metadata": {
        "id": "LSK6Bb0cuTHY",
        "colab_type": "code",
        "colab": {
          "base_uri": "https://localhost:8080/",
          "height": 67
        },
        "outputId": "cbd1f693-38ef-4cbe-84c9-3624b9c09299"
      },
      "source": [
        "%%time\n",
        "sum=0\n",
        "\n",
        "my_rows=zip(df['Values'])\n",
        "\n",
        "for i, (row,) in enumerate(my_rows):\n",
        "    sum+=row\n",
        "    \n",
        "print(sum)"
      ],
      "execution_count": 28,
      "outputs": [
        {
          "output_type": "stream",
          "text": [
            "499999500000\n",
            "CPU times: user 257 ms, sys: 0 ns, total: 257 ms\n",
            "Wall time: 258 ms\n"
          ],
          "name": "stdout"
        }
      ]
    }
  ]
}